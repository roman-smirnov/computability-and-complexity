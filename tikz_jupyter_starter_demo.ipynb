{
  "nbformat": 4,
  "nbformat_minor": 0,
  "metadata": {
    "colab": {
      "name": "tikz_jupyter_starter_demo.ipynb",
      "version": "0.3.2",
      "views": {},
      "default_view": {},
      "provenance": []
    },
    "kernelspec": {
      "name": "python3",
      "display_name": "Python 3"
    }
  },
  "cells": [
    {
      "metadata": {
        "id": "B69qCTE4vo7e",
        "colab_type": "text"
      },
      "cell_type": "markdown",
      "source": [
        "# Tikz Diagrams in Jupyter\n",
        "\n",
        "## Setup Instructions\n",
        "\n",
        "### Install Dependencies \n",
        "```\n",
        "!apt-get -qq install -y texlive-xetex\n",
        "!apt-get -qq install -y imagemagick\n",
        "```\n",
        "### Install Python Interface Libraries\n",
        "```\n",
        "!pip install git+git://github.com/mkrphys/ipython-tikzmagic.git\n",
        "```\n",
        "### Supress Code Output\n",
        "Put the magic ```%%capture``` at the start of the code cell to discard the output printouts.\n",
        "\n",
        "### Import Module\n",
        "standard way\n",
        "```\n",
        "import tikz\n",
        "```\n",
        "or via Python Magic\n",
        "\n",
        "```\n",
        "%load_ext tikzmagic\n",
        "```\n",
        "\n",
        "## Demo\n",
        "\n",
        "### Install and import"
      ]
    },
    {
      "metadata": {
        "id": "kFA1dFKfwFGV",
        "colab_type": "code",
        "colab": {
          "autoexec": {
            "startup": false,
            "wait_interval": 0
          }
        },
        "collapsed": true
      },
      "cell_type": "code",
      "source": [
        "%%capture\n",
        "# dependency installs\n",
        "!apt-get -qq install -y texlive-xetex\n",
        "!apt-get -qq install -y imagemagick\n",
        "# package install\n",
        "!pip install git+git://github.com/mkrphys/ipython-tikzmagic.git\n",
        "# module import\n",
        "%load_ext tikzmagic"
      ],
      "execution_count": 0,
      "outputs": []
    },
    {
      "metadata": {
        "id": "-BzNoBW71ajN",
        "colab_type": "text"
      },
      "cell_type": "markdown",
      "source": [
        "### Draw Something"
      ]
    },
    {
      "metadata": {
        "id": "99JwEJW8x2PE",
        "colab_type": "code",
        "colab": {
          "autoexec": {
            "startup": false,
            "wait_interval": 0
          },
          "output_extras": [
            {
              "item_id": 1
            }
          ],
          "base_uri": "https://localhost:8080/",
          "height": 257
        },
        "outputId": "dc44454f-a287-4e90-dc95-f90c2977854b",
        "executionInfo": {
          "status": "ok",
          "timestamp": 1522311327505,
          "user_tz": -180,
          "elapsed": 900,
          "user": {
            "displayName": "Roman Smirnov",
            "photoUrl": "//lh4.googleusercontent.com/-Ox3vxv73AEM/AAAAAAAAAAI/AAAAAAAAAMI/fNjU_hJREsE/s50-c-k-no/photo.jpg",
            "userId": "105632301867935480351"
          }
        }
      },
      "cell_type": "code",
      "source": [
        "%%tikz\n",
        "\\draw[thick] (0cm,0cm) circle(1cm);\n",
        "\\draw[thick] (-0.35,0.35) ellipse (0.1cm and 0.1cm); %draw left eye\n",
        "\\draw[thick] (0.35,0.35) ellipse (0.1cm and 0.1cm); %draw right eye\n",
        "\\draw[thick] plot [smooth,tension=1.5] coordinates{(-0.5,-0.5) (0,-0.8) (0.5,-0.5)};%draw smile\n"
      ],
      "execution_count": 13,
      "outputs": [
        {
          "output_type": "display_data",
          "data": {
            "image/png": "[encoded data removed]"
          },
          "metadata": {
            "tags": []
          }
        }
      ]
    }
  ]
}